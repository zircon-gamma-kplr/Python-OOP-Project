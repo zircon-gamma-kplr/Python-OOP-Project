{
 "cells": [
  {
   "attachments": {},
   "cell_type": "markdown",
   "metadata": {},
   "source": [
    "# Programmation Orientée Objet"
   ]
  },
  {
   "attachments": {},
   "cell_type": "markdown",
   "metadata": {},
   "source": [
    "### Le code ci-dessous charge des données **JSON** à partir d'un fichier, les convertit en un **Dictionnaire** Python, puis effectue des manipulations sur ce dictionnaire."
   ]
  },
  {
   "attachments": {},
   "cell_type": "markdown",
   "metadata": {},
   "source": [
    "\n",
    "- Voici les étapes détaillées :\n",
    "\n",
    "    1.\tLe module json est importé pour manipuler des données **JSON**. Les modules re et unidecode sont importés pour la suppression des caractères spéciaux.\n",
    "    2.\tLes données **JSON** sont chargées à partir du fichier **\"_exercices/01.json/json_data.json\"** dans un dictionnaire Python à l'aide de la fonction **json.load()**.\n",
    "    3.\tLe dictionnaire Python est converti en une chaîne de caractères **JSON** à l'aide de la fonction **json.dumps()**.\n",
    "    4.\tLa fonction **unidecode()** est utilisée pour enlever les accents et autres caractères spéciaux de la chaîne de caractères **JSON**.\n",
    "    5.\tLa chaîne de caractères **JSON** est à nouveau convertie en un dictionnaire Python à l'aide de la fonction **json.loads()**.\n",
    "    6.\tLe dictionnaire Python résultant peut ensuite être manipulé et utilisé dans le code.  \n",
    "    \n",
    "- En résumé, ce code permet de charger des données JSON à partir d'un fichier, de les convertir en dictionnaire Python et de les nettoyer de certains caractères spéciaux avant de pouvoir les manipuler plus facilement dans le reste du programme."
   ]
  },
  {
   "attachments": {},
   "cell_type": "markdown",
   "metadata": {},
   "source": [
    "#### Import des modules nécessaires"
   ]
  },
  {
   "cell_type": "code",
   "execution_count": 33,
   "metadata": {},
   "outputs": [],
   "source": [
    "# Import des modules nécessaires\n",
    "import json\n",
    "from unidecode import unidecode\n",
    "import re\n",
    "import os"
   ]
  },
  {
   "attachments": {},
   "cell_type": "markdown",
   "metadata": {},
   "source": [
    "#### Obtenir le chemin du répertoire du fichier Python actuel"
   ]
  },
  {
   "cell_type": "code",
   "execution_count": 34,
   "metadata": {},
   "outputs": [
    {
     "name": "stdout",
     "output_type": "stream",
     "text": [
      "/workspaces/Python-OOP-Project/exercices/01.json\n"
     ]
    }
   ],
   "source": [
    "!pwd"
   ]
  },
  {
   "cell_type": "code",
   "execution_count": 35,
   "metadata": {},
   "outputs": [],
   "source": [
    "# Get the directory path of the current Python file __file__\n",
    "\n",
    "local_path = os.path.dirname(os.path.abspath(\"/workspaces/Python-OOP-Project/exercices/01.json/01.load_json.py\"))"
   ]
  },
  {
   "attachments": {},
   "cell_type": "markdown",
   "metadata": {},
   "source": [
    "#### Chargement des données JSON à partir du fichier dans un dictionnaire python"
   ]
  },
  {
   "cell_type": "code",
   "execution_count": 36,
   "metadata": {},
   "outputs": [
    {
     "data": {
      "text/plain": [
       "{'clients': {'personne1': {'nom': 'Dupont',\n",
       "   'prenom': 'Jean',\n",
       "   'age': 25,\n",
       "   'adresse': {'rue': 'Rue de la Paix', 'ville': 'Paris', 'pays': 'France'},\n",
       "   'contacts': {'email': 'jean.dupont@example.com',\n",
       "    'telephone': '06 23 45 67 89'}},\n",
       "  'personne2': {'nom': 'Martin',\n",
       "   'prenom': 'Marie',\n",
       "   'age': 30,\n",
       "   'adresse': {'rue': 'Avenue des Champs-Élysées',\n",
       "    'ville': 'Paris',\n",
       "    'pays': 'France'},\n",
       "   'contacts': {'email': 'marie.martin@example.com',\n",
       "    'telephone': '06 34 56 78 90'}},\n",
       "  'personne3': {'nom': 'Durand',\n",
       "   'prenom': 'Pierre',\n",
       "   'age': 35,\n",
       "   'adresse': {'rue': 'Rue du Faubourg Saint-Honoré',\n",
       "    'ville': 'Paris',\n",
       "    'pays': 'France'},\n",
       "   'contacts': {'email': 'pierre.durand@example.com',\n",
       "    'telephone': '06 45 67 89 01'}}}}"
      ]
     },
     "execution_count": 36,
     "metadata": {},
     "output_type": "execute_result"
    }
   ],
   "source": [
    "# Chargement des données JSON à partir du fichier dans un dictionnaire python\n",
    "json_data = json.load(open(os.path.join(local_path, 'json_data.json'), \"rb\"))\n",
    "json_data"
   ]
  },
  {
   "attachments": {},
   "cell_type": "markdown",
   "metadata": {},
   "source": [
    "#### il est nécessaire de reconvertir le dictionnaire en chaine de caractere pour le traiter ensuite"
   ]
  },
  {
   "cell_type": "code",
   "execution_count": 37,
   "metadata": {},
   "outputs": [],
   "source": [
    "# il est nécessaire de reconvertir le dictionnaire en chaine de caractere pour le traiter ensuite\n",
    "json_str = json.dumps(json_data)"
   ]
  },
  {
   "attachments": {},
   "cell_type": "markdown",
   "metadata": {},
   "source": [
    "#### Utilisation de la fonction unidecode pour enlever les accents et autres caractères spéciaux\n"
   ]
  },
  {
   "cell_type": "code",
   "execution_count": 38,
   "metadata": {},
   "outputs": [],
   "source": [
    "# Utilisation de la fonction unidecode pour enlever les accents et autres caractères spéciaux\n",
    "json_data = (unidecode(json_str))"
   ]
  },
  {
   "attachments": {},
   "cell_type": "markdown",
   "metadata": {},
   "source": [
    "#### Conversion de la chaine de caractere JSON à nouveau en dictionnaire Python\n",
    " Le dictionnaire python est plus pratique à manipuler que la chaine de caractère car il est structuré"
   ]
  },
  {
   "cell_type": "code",
   "execution_count": 39,
   "metadata": {},
   "outputs": [],
   "source": [
    "# Conversion de la chaine de caractere JSON à nouveau en dictionnaire Python\n",
    "# Le dictionnaire python est plus pratique à manipuler que la chaine de caractère car il est structuré\n",
    "json_dict = json.loads(json_data)"
   ]
  },
  {
   "attachments": {},
   "cell_type": "markdown",
   "metadata": {},
   "source": [
    "#### imprimons a présent le dictionnaire"
   ]
  },
  {
   "cell_type": "code",
   "execution_count": 40,
   "metadata": {},
   "outputs": [
    {
     "name": "stdout",
     "output_type": "stream",
     "text": [
      "{\n",
      "    \"clients\": {\n",
      "        \"personne1\": {\n",
      "            \"nom\": \"Dupont\",\n",
      "            \"prenom\": \"Jean\",\n",
      "            \"age\": 25,\n",
      "            \"adresse\": {\n",
      "                \"rue\": \"Rue de la Paix\",\n",
      "                \"ville\": \"Paris\",\n",
      "                \"pays\": \"France\"\n",
      "            },\n",
      "            \"contacts\": {\n",
      "                \"email\": \"jean.dupont@example.com\",\n",
      "                \"telephone\": \"06 23 45 67 89\"\n",
      "            }\n",
      "        },\n",
      "        \"personne2\": {\n",
      "            \"nom\": \"Martin\",\n",
      "            \"prenom\": \"Marie\",\n",
      "            \"age\": 30,\n",
      "            \"adresse\": {\n",
      "                \"rue\": \"Avenue des Champs-\\u00c9lys\\u00e9es\",\n",
      "                \"ville\": \"Paris\",\n",
      "                \"pays\": \"France\"\n",
      "            },\n",
      "            \"contacts\": {\n",
      "                \"email\": \"marie.martin@example.com\",\n",
      "                \"telephone\": \"06 34 56 78 90\"\n",
      "            }\n",
      "        },\n",
      "        \"personne3\": {\n",
      "            \"nom\": \"Durand\",\n",
      "            \"prenom\": \"Pierre\",\n",
      "            \"age\": 35,\n",
      "            \"adresse\": {\n",
      "                \"rue\": \"Rue du Faubourg Saint-Honor\\u00e9\",\n",
      "                \"ville\": \"Paris\",\n",
      "                \"pays\": \"France\"\n",
      "            },\n",
      "            \"contacts\": {\n",
      "                \"email\": \"pierre.durand@example.com\",\n",
      "                \"telephone\": \"06 45 67 89 01\"\n",
      "            }\n",
      "        }\n",
      "    }\n",
      "}\n"
     ]
    }
   ],
   "source": [
    "# imprimons a présent le dictionnaire\n",
    "\n",
    "print(json.dumps(json_dict, indent=4))"
   ]
  }
 ],
 "metadata": {
  "kernelspec": {
   "display_name": "Python 3",
   "language": "python",
   "name": "python3"
  },
  "language_info": {
   "codemirror_mode": {
    "name": "ipython",
    "version": 3
   },
   "file_extension": ".py",
   "mimetype": "text/x-python",
   "name": "python",
   "nbconvert_exporter": "python",
   "pygments_lexer": "ipython3",
   "version": "3.10.4"
  },
  "orig_nbformat": 4
 },
 "nbformat": 4,
 "nbformat_minor": 2
}
